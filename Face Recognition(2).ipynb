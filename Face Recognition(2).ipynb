{
 "cells": [
  {
   "cell_type": "markdown",
   "metadata": {},
   "source": [
    "# Data pre-processing"
   ]
  },
  {
   "cell_type": "code",
   "execution_count": 1,
   "metadata": {
    "scrolled": true
   },
   "outputs": [
    {
     "name": "stdout",
     "output_type": "stream",
     "text": [
      "7\n"
     ]
    },
    {
     "data": {
      "text/plain": [
       "[array([1., 0., 0., 0., 0., 0., 0.]),\n",
       " array([0., 1., 0., 0., 0., 0., 0.]),\n",
       " array([0., 0., 1., 0., 0., 0., 0.]),\n",
       " array([0., 0., 0., 1., 0., 0., 0.]),\n",
       " array([0., 0., 0., 0., 1., 0., 0.]),\n",
       " array([0., 0., 0., 0., 0., 1., 0.]),\n",
       " array([0., 0., 0., 0., 0., 0., 1.])]"
      ]
     },
     "execution_count": 1,
     "metadata": {},
     "output_type": "execute_result"
    }
   ],
   "source": [
    "import dlib\n",
    "import cv2\n",
    "import tensorflow as tf\n",
    "import glob\n",
    "import numpy as np\n",
    "import matplotlib.image as mpimg\n",
    "import os\n",
    "nums = len(next(os.walk('Training_data'))[1])\n",
    "print(len(next(os.walk('Training_data'))[1]))\n",
    "path = 'Training_Data'\n",
    "dir_list = os.listdir(path)\n",
    "\n",
    "dir_list\n",
    "label_list = []\n",
    "for i in range(nums):\n",
    "    label_list = label_list + [np.zeros(nums)]\n",
    "    label_list[i][i] = 1\n",
    "    \n",
    "label_list\n",
    "\n",
    "aa = [dir_list, label_list]\n",
    "\n",
    "label_list"
   ]
  },
  {
   "cell_type": "code",
   "execution_count": 2,
   "metadata": {},
   "outputs": [
    {
     "name": "stdout",
     "output_type": "stream",
     "text": [
      "Cannot detect face in:  Training_Data\\Runzhe\\sb3 (2).jpg\n",
      "Cannot detect face in:  Training_Data\\Runzhe\\sb3 (3).jpg\n",
      "Cannot detect face in:  Training_Data\\Runzhe\\sb3 (4).jpg\n",
      "Cannot detect face in:  Training_Data\\Runzhe\\sb3 (5).jpg\n",
      "Cannot detect face in:  Training_Data\\Runzhe\\sb3 (6).jpg\n",
      "Cannot detect face in:  Training_Data\\Runzhe\\sb3 (7).jpg\n",
      "Cannot detect face in:  Training_Data\\Runzhe\\sb3 (8).jpg\n",
      "Inputs shape:  (86, 128)\n",
      "Label shape: (86, 7)\n"
     ]
    }
   ],
   "source": [
    "face_detector = dlib.get_frontal_face_detector()\n",
    "\n",
    "shape_predictor = dlib.shape_predictor('Files/shape_predictor_68_face_landmarks.dat')\n",
    "\n",
    "face_recognition_model = dlib.face_recognition_model_v1('Files/dlib_face_recognition_resnet_model_v1.dat')\n",
    "\n",
    "\n",
    "images = []\n",
    "\n",
    "label = []\n",
    "\n",
    "        \n",
    "\n",
    "\n",
    "def create_training_inputs(data_path, container, face_detector, shape_predictor, face_recognition_model,label):\n",
    "    for i, file_name in enumerate(glob.glob(data_path)):\n",
    "        aa = list(file_name.split(\"\\\\\"))\n",
    "        bb = dir_list.index(aa[1])\n",
    "        im = mpimg.imread(file_name)\n",
    "        if(file_name.endswith(\".pgm\")):\n",
    "            im = np.stack((im,)*3, axis=-1)\n",
    "        faces = face_detector(im, 1)\n",
    "        shapes = [shape_predictor(im, face) for face in faces]\n",
    "        if len(shapes) != 0:\n",
    "            face_ids = [face_recognition_model.compute_face_descriptor(im, shape, 1) for shape in shapes]\n",
    "            face_ids_array = np.array(face_ids)\n",
    "            face_ids_list = face_ids_array.tolist()[0]\n",
    "            container.append(face_ids_list)\n",
    "            label.append(label_list[bb])\n",
    "        else:\n",
    "            print (\"Cannot detect face in: \", file_name)\n",
    "\n",
    "            \n",
    "create_training_inputs(\"Training_Data/*/*\", images, face_detector, shape_predictor, face_recognition_model,label)\n",
    "\n",
    "Inputs = np.array(images)\n",
    "\n",
    "label = np.array(label)\n",
    "\n",
    "print (\"Inputs shape: \", Inputs.shape)\n",
    "print (\"Label shape:\", label.shape)"
   ]
  },
  {
   "cell_type": "markdown",
   "metadata": {},
   "source": [
    "# Build Computational Graph - Tensorflow"
   ]
  },
  {
   "cell_type": "code",
   "execution_count": 3,
   "metadata": {},
   "outputs": [
    {
     "name": "stdout",
     "output_type": "stream",
     "text": [
      "WARNING:tensorflow:From C:\\Users\\liu\\anaconda3\\lib\\site-packages\\tensorflow\\python\\compat\\v2_compat.py:101: disable_resource_variables (from tensorflow.python.ops.variable_scope) is deprecated and will be removed in a future version.\n",
      "Instructions for updating:\n",
      "non-resource variables are not supported in the long term\n",
      "WARNING:tensorflow:From C:\\Users\\liu\\anaconda3\\lib\\site-packages\\tensorflow\\python\\util\\dispatch.py:206: calling dropout (from tensorflow.python.ops.nn_ops) with keep_prob is deprecated and will be removed in a future version.\n",
      "Instructions for updating:\n",
      "Please use `rate` instead of `keep_prob`. Rate should be set to `rate = 1 - keep_prob`.\n",
      "WARNING:tensorflow:From C:\\Users\\liu\\anaconda3\\lib\\site-packages\\tensorflow\\python\\util\\dispatch.py:206: softmax_cross_entropy_with_logits (from tensorflow.python.ops.nn_ops) is deprecated and will be removed in a future version.\n",
      "Instructions for updating:\n",
      "\n",
      "Future major versions of TensorFlow will allow gradients to flow\n",
      "into the labels input on backprop by default.\n",
      "\n",
      "See `tf.nn.softmax_cross_entropy_with_logits_v2`.\n",
      "\n"
     ]
    }
   ],
   "source": [
    "import tensorflow.compat.v1 as tf\n",
    "tf.disable_v2_behavior()\n",
    "# Hyperparameter\n",
    "hidden_size1 = 300\n",
    "hidden_size2 = 200\n",
    "hidden_size3 = 100\n",
    "hidden_size4 = 50\n",
    "\n",
    "\n",
    "\n",
    "\n",
    "# Create placeholders\n",
    "X  = tf.placeholder(tf.float32, [None, 128])\n",
    "Y_ = tf.placeholder(tf.float32, [None, len(dir_list)])\n",
    "lr = tf.placeholder(tf.float32)\n",
    "pkeep = tf.placeholder(tf.float32)\n",
    "\n",
    "# Create variables\n",
    "w1 = tf.Variable(tf.truncated_normal([128, hidden_size1], stddev=0.1), tf.float32)\n",
    "b1 = tf.Variable(tf.ones([hidden_size1])/10)\n",
    "\n",
    "w2 = tf.Variable(tf.truncated_normal([hidden_size1, hidden_size2], stddev=0.1), tf.float32)\n",
    "b2 = tf.Variable(tf.ones([hidden_size2])/10)\n",
    "\n",
    "w3 = tf.Variable(tf.truncated_normal([hidden_size2, hidden_size3], stddev=0.1), tf.float32)\n",
    "b3 = tf.Variable(tf.ones([hidden_size3])/10)\n",
    "\n",
    "w4 = tf.Variable(tf.truncated_normal([hidden_size3, hidden_size4], stddev=0.1), tf.float32)\n",
    "b4 = tf.Variable(tf.ones([hidden_size4])/10)\n",
    "\n",
    "w5 = tf.Variable(tf.truncated_normal([hidden_size4, len(dir_list)], stddev=0.1), tf.float32)\n",
    "b5 = tf.Variable(tf.ones([len(dir_list)])/10)\n",
    "\n",
    "\n",
    "Y1 = tf.matmul(X, w1) + b1\n",
    "Y1 = tf.nn.relu(Y1)\n",
    "\n",
    "Y2 = tf.matmul(Y1, w2) + b2\n",
    "Y2 = tf.nn.relu(Y2)\n",
    "\n",
    "Y3 = tf.matmul(Y2, w3) + b3\n",
    "Y3 = tf.nn.relu(Y3)\n",
    "\n",
    "Y4 = tf.matmul(Y3, w4) + b4\n",
    "Y4 = tf.nn.relu(Y4)\n",
    "\n",
    "\n",
    "\n",
    "Ydrop = tf.nn.dropout(Y4, pkeep)\n",
    "\n",
    "Ylogits = tf.matmul(Ydrop, w5) + b5\n",
    "Y = tf.nn.softmax(Ylogits)\n",
    "\n",
    "# Loss (Cross-entropy)\n",
    "loss = tf.nn.softmax_cross_entropy_with_logits(logits=Ylogits, labels=Y_)\n",
    "\n",
    "# Optimizer\n",
    "optimizer = tf.train.AdamOptimizer(lr).minimize(loss)\n",
    "\n",
    "# Accuracy\n",
    "is_correct = tf.equal(tf.argmax(Y,1), tf.argmax(Y_,1))\n",
    "accuracy = tf.reduce_mean(tf.cast(is_correct, tf.float32))\n",
    "\n",
    "# Initializer\n",
    "init = tf.global_variables_initializer()\n",
    "saver = tf.train.Saver()"
   ]
  },
  {
   "cell_type": "markdown",
   "metadata": {},
   "source": [
    "# Training Process"
   ]
  },
  {
   "cell_type": "code",
   "execution_count": 4,
   "metadata": {},
   "outputs": [
    {
     "name": "stdout",
     "output_type": "stream",
     "text": [
      "At iteration: 0, Loss: 168.5761021375656, Accuracy: 0.10465116\n",
      "At iteration: 100, Loss: 95.38324385881424, Accuracy: 0.6976744\n",
      "At iteration: 200, Loss: 40.3262560851872, Accuracy: 0.8604651\n",
      "At iteration: 300, Loss: 15.7063397183083, Accuracy: 0.95348835\n",
      "At iteration: 400, Loss: 5.6949558245250955, Accuracy: 1.0\n",
      "At iteration: 500, Loss: 1.638295668642968, Accuracy: 1.0\n",
      "At iteration: 600, Loss: 0.7709358344436623, Accuracy: 1.0\n",
      "At iteration: 700, Loss: 0.5891951007361058, Accuracy: 1.0\n",
      "At iteration: 800, Loss: 0.5763916321739089, Accuracy: 1.0\n",
      "At iteration: 900, Loss: 0.28727528136005276, Accuracy: 1.0\n",
      "WARNING:tensorflow:Issue encountered when serializing variables.\n",
      "Type is unsupported, or the types of the items don't match field type in CollectionDef. Note this is a warning and probably safe to ignore.\n",
      "tf.float32 has type DType, but expected one of: int, long, bool\n",
      "WARNING:tensorflow:Issue encountered when serializing trainable_variables.\n",
      "Type is unsupported, or the types of the items don't match field type in CollectionDef. Note this is a warning and probably safe to ignore.\n",
      "tf.float32 has type DType, but expected one of: int, long, bool\n",
      "Model saved in file: Checkpoint/model.ckpt\n"
     ]
    }
   ],
   "source": [
    "with tf.compat.v1.Session() as sess:\n",
    "    sess.run(init)\n",
    "    \n",
    "    train_dict = {X: Inputs, Y_: label, lr: 0.0001, pkeep: 0.9}\n",
    "    # Training\n",
    "    for i in range(1000):\n",
    "        sess.run(optimizer, feed_dict=train_dict)\n",
    "        \n",
    "        # Accuracy\n",
    "        if i % 100 == 0:\n",
    "            A, C = sess.run([accuracy, loss], feed_dict=train_dict)\n",
    "            print (\"At iteration: %s, Loss: %s, Accuracy: %s\" % (i,sum(C),A))\n",
    "    \n",
    "    save_path = saver.save(sess, \"Checkpoint/model.ckpt\")\n",
    "    print(\"Model saved in file: %s\" % save_path)"
   ]
  },
  {
   "cell_type": "code",
   "execution_count": 5,
   "metadata": {},
   "outputs": [
    {
     "name": "stdout",
     "output_type": "stream",
     "text": [
      "6\n"
     ]
    }
   ],
   "source": [
    "import numpy as np\n",
    "import dlib\n",
    "import matplotlib.image as mpimg\n",
    "\n",
    "\n",
    "face_detector = dlib.get_frontal_face_detector()\n",
    "\n",
    "shape_predictor = dlib.shape_predictor('Files/shape_predictor_68_face_landmarks.dat')\n",
    "\n",
    "face_recognition_model = dlib.face_recognition_model_v1('Files/dlib_face_recognition_resnet_model_v1.dat')\n",
    "\n",
    "\n",
    "known_faces = []\n",
    "for i in range(nums):\n",
    "    path = \"Training_Data/\" + dir_list[i] + \"/*\"\n",
    "    im = mpimg.imread(glob.glob(path)[0])\n",
    "    if(glob.glob(path)[0].endswith(\".pgm\")):\n",
    "        im = np.stack((im,)*3, axis=-1)\n",
    "    faces = face_detector(im, 1)\n",
    "    shapes = [shape_predictor(im, face) for face in faces]\n",
    "    if len(shapes) != 0:\n",
    "        face_ids = [face_recognition_model.compute_face_descriptor(im, shape, 1) for shape in shapes]\n",
    "        face_ids_array = np.array(face_ids)\n",
    "        face_ids_list = face_ids_array.tolist()[0]\n",
    "        known_faces.append(face_ids_list)\n",
    "    \n",
    "\n",
    "    \n",
    "\n",
    "    \n",
    "print (len(known_faces))\n"
   ]
  },
  {
   "cell_type": "markdown",
   "metadata": {},
   "source": [
    "# Running Application By Camera"
   ]
  },
  {
   "cell_type": "code",
   "execution_count": 6,
   "metadata": {
    "scrolled": true
   },
   "outputs": [
    {
     "name": "stdout",
     "output_type": "stream",
     "text": [
      "INFO:tensorflow:Restoring parameters from Checkpoint/model.ckpt\n",
      "Model restored.\n"
     ]
    }
   ],
   "source": [
    "import tensorflow as tf\n",
    "import numpy as np\n",
    "import dlib\n",
    "import cv2\n",
    "\n",
    "\n",
    "face_detector = dlib.get_frontal_face_detector()\n",
    "\n",
    "shape_predictor = dlib.shape_predictor('Files/shape_predictor_68_face_landmarks.dat')\n",
    "\n",
    "face_recognition_model = dlib.face_recognition_model_v1('Files/dlib_face_recognition_resnet_model_v1.dat')\n",
    "\n",
    "\n",
    "\n",
    "def detect_face(im, sess, known_faces):\n",
    "    images_test = []\n",
    "    faces = face_detector(im, 1)\n",
    "    shapes = [shape_predictor(im, face) for face in faces]\n",
    "    face_ids = [face_recognition_model.compute_face_descriptor(im, shape, 1) for shape in shapes]\n",
    "    face_ids_array = np.array(face_ids)\n",
    "    \n",
    "    in_test_set = True\n",
    "    unknown_faces = []\n",
    "    \n",
    "    for i, face in enumerate(face_ids_array):\n",
    "        for known_face in known_faces:\n",
    "            thresh_hold = np.linalg.norm(known_face - face)\n",
    "            if thresh_hold > 0.43:\n",
    "                in_test_set = False\n",
    "            else:\n",
    "                in_test_set = True\n",
    "                break\n",
    "        \n",
    "        if not in_test_set:\n",
    "            font = cv2.FONT_HERSHEY_SIMPLEX\n",
    "            cv2.putText(im,\"Unknown Face\",(faces[i].left()-50,faces[i].top()-50), font, 2,(0,255,0),2,cv2.LINE_AA)\n",
    "\n",
    "            cv2.rectangle(im,(faces[i].left(),faces[i].top()),(faces[i].right(),faces[i].bottom()),(255,0,0),2)\n",
    "            unknown_faces.append(i)\n",
    "            \n",
    "\n",
    "    face_ids_list = face_ids_array.tolist()\n",
    "    \n",
    "    if len(unknown_faces) != 0 and len(face_ids_list) != 0:\n",
    "        for i, index in enumerate(unknown_faces):\n",
    "            face_ids_list.pop(index - i)\n",
    "\n",
    "    \n",
    "    [images_test.append(face_id) for face_id in face_ids_list]\n",
    "    \n",
    "    if len(images_test) != 0:\n",
    "        test_input = np.array(images_test)\n",
    "\n",
    "        test_dict = {X: test_input, pkeep: 0.9}\n",
    "\n",
    "        Y_predict = sess.run(Y, feed_dict=test_dict)\n",
    "\n",
    "        for i, result in enumerate(Y_predict):\n",
    "            confidence = round(result[np.argmax(result)] * 100, 2)\n",
    "            number = np.argmax(result)\n",
    "            predicted_face = dir_list[number] + str(confidence) + \" %\"\n",
    "            font = cv2.FONT_HERSHEY_SIMPLEX\n",
    "            cv2.putText(im,predicted_face,(faces[i].left()-50,faces[i].top()-50), font, 2,(0,255,0),2,cv2.LINE_AA)\n",
    "\n",
    "            cv2.rectangle(im,(faces[i].left(),faces[i].top()),(faces[i].right(),faces[i].bottom()),(255,0,0),2)\n",
    "    \n",
    "    return im\n",
    "\n",
    "cap = cv2.VideoCapture(1,cv2.CAP_DSHOW)\n",
    "\n",
    "with tf.compat.v1.Session() as sess:\n",
    "    saver.restore(sess, \"Checkpoint/model.ckpt\")\n",
    "    print(\"Model restored.\")\n",
    "\n",
    "    while True:\n",
    "        ret, frame = cap.read()\n",
    "        cv2.imshow('Live stream', detect_face(frame, sess, known_faces))\n",
    "        if cv2.waitKey(1) == 27: #esc to close\n",
    "            break\n",
    "\n",
    "cap.release()\n",
    "cv2.destroyAllWindows() "
   ]
  },
  {
   "cell_type": "markdown",
   "metadata": {},
   "source": [
    "# Running Application By Picture"
   ]
  },
  {
   "cell_type": "code",
   "execution_count": 7,
   "metadata": {},
   "outputs": [
    {
     "name": "stdout",
     "output_type": "stream",
     "text": [
      "knowfaceChongyu\n",
      "knowfaceChongyu\n",
      "knowfaceChongyu\n",
      "knowfaceDATA1\n",
      "knowfaceDATA1\n",
      "knowfaceDATA1\n",
      "knowfaceDATA2\n",
      "knowfaceDATA2\n",
      "knowfaceDATA2\n",
      "knowfaceJiehong\n",
      "knowfaceJiehong\n",
      "knowfaceJiehong\n",
      "knowfaceKD\n",
      "knowfaceKD\n",
      "knowfaceKD\n",
      "knowfaceKD\n",
      "knowfaceKD\n",
      "knowfaceKD\n",
      "knowfaceKD\n",
      "knowfaceKD\n",
      "knowfaceKD\n",
      "knowfaceKD\n",
      "knowfaceKhoi\n",
      "knowfaceKhoi\n",
      "knowfaceKhoi\n",
      "knowfaceKhoi\n",
      "knowfaceKhoi\n",
      "knowfaceKhoi\n",
      "knowfaceKhoi\n",
      "knowfaceKhoi\n",
      "knowfaceKhoi\n",
      "knowfaceKhoi\n",
      "Accuracy: 0.8857142857142857\n"
     ]
    }
   ],
   "source": [
    "import tensorflow as tf\n",
    "import numpy as np\n",
    "import dlib\n",
    "import cv2\n",
    "\n",
    "\n",
    "face_detector = dlib.get_frontal_face_detector()\n",
    "\n",
    "shape_predictor = dlib.shape_predictor('Files/shape_predictor_68_face_landmarks.dat')\n",
    "\n",
    "face_recognition_model = dlib.face_recognition_model_v1('Files/dlib_face_recognition_resnet_model_v1.dat')\n",
    "\n",
    "def detect_face_by_picture(data_path,name):\n",
    "    im = mpimg.imread(data_path)\n",
    "    if(file_name.endswith(\".pgm\")):\n",
    "        im = np.stack((im,)*3, axis=-1)\n",
    "    images_test = []\n",
    "    faces = face_detector(im, 1)\n",
    "    shapes = [shape_predictor(im, face) for face in faces]\n",
    "    face_ids = [face_recognition_model.compute_face_descriptor(im, shape, 1) for shape in shapes]\n",
    "    face_ids_array = np.array(face_ids)\n",
    "\n",
    "    in_test_set = True\n",
    "    unknown_faces = []\n",
    "    indexNumber = 0\n",
    "    for i, face in enumerate(face_ids_array):\n",
    "        for known_face in known_faces:\n",
    "            thresh_hold = np.linalg.norm(known_face - face)\n",
    "            if thresh_hold > 0.45:\n",
    "                in_test_set = False\n",
    "            else:\n",
    "                in_test_set = True\n",
    "                print(\"knowface\"+ name)\n",
    "                return [1,dir_list[indexNumber]]\n",
    "            indexNumber+=1\n",
    "\n",
    "    if not in_test_set:\n",
    "        print(\"Unknown Face:\"+ name)\n",
    "    return [0,\"unkown\"]\n",
    "\n",
    "path = \"Testing_Data/*/*\"\n",
    "total = 0\n",
    "count = 0\n",
    "for i, file_name in enumerate(glob.glob(path)):\n",
    "    aa = list(file_name.split(\"\\\\\"))[1]\n",
    "    imageName = file_name.split(\"\\\\\")[1]\n",
    "    result = detect_face_by_picture(file_name,imageName)\n",
    "    if(result[1] == aa):\n",
    "        count += result[0]\n",
    "    total += 1\n",
    "print (\"Accuracy: %s\" % (count/total))"
   ]
  },
  {
   "cell_type": "code",
   "execution_count": null,
   "metadata": {},
   "outputs": [],
   "source": []
  }
 ],
 "metadata": {
  "kernelspec": {
   "display_name": "Python 3",
   "language": "python",
   "name": "python3"
  },
  "language_info": {
   "codemirror_mode": {
    "name": "ipython",
    "version": 3
   },
   "file_extension": ".py",
   "mimetype": "text/x-python",
   "name": "python",
   "nbconvert_exporter": "python",
   "pygments_lexer": "ipython3",
   "version": "3.8.5"
  }
 },
 "nbformat": 4,
 "nbformat_minor": 2
}
